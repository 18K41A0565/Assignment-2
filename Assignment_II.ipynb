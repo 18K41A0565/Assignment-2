{
  "nbformat": 4,
  "nbformat_minor": 0,
  "metadata": {
    "colab": {
      "name": "Assignment-II.ipynb",
      "provenance": [],
      "collapsed_sections": [],
      "authorship_tag": "ABX9TyOjYFPiI0H865JQRyWmvMaS",
      "include_colab_link": true
    },
    "kernelspec": {
      "name": "python3",
      "display_name": "Python 3"
    }
  },
  "cells": [
    {
      "cell_type": "markdown",
      "metadata": {
        "id": "view-in-github",
        "colab_type": "text"
      },
      "source": [
        "<a href=\"https://colab.research.google.com/github/18K41A0565/Assignment-2/blob/master/Assignment_II.ipynb\" target=\"_parent\"><img src=\"https://colab.research.google.com/assets/colab-badge.svg\" alt=\"Open In Colab\"/></a>"
      ]
    },
    {
      "cell_type": "markdown",
      "metadata": {
        "id": "0JeO9W9jQsUe",
        "colab_type": "text"
      },
      "source": [
        "                                  **ASSIGNMENT-II**"
      ]
    },
    {
      "cell_type": "markdown",
      "metadata": {
        "id": "AxviC1hXRCvz",
        "colab_type": "text"
      },
      "source": [
        "**1.AREA OF TRIANGLE :**"
      ]
    },
    {
      "cell_type": "code",
      "metadata": {
        "id": "rUArC480Q-9s",
        "colab_type": "code",
        "colab": {
          "base_uri": "https://localhost:8080/",
          "height": 84
        },
        "outputId": "c9d46496-389d-488f-a892-5b6c946ed361"
      },
      "source": [
        "import math\n",
        "a=float(input('Enter length of side of a triangle:\\t'))\n",
        "b=float(input('Enter length of side of a triangle:\\t'))\n",
        "c=float(input('Enter length of side of a triangle:\\t'))\n",
        "s=(a+b+c)/2\n",
        "area=math.sqrt(s*(s-a)*(s-b)*(s-c))\n",
        "print( 'Area of triangle is \\t:',area)"
      ],
      "execution_count": null,
      "outputs": [
        {
          "output_type": "stream",
          "text": [
            "Enter length of side of a triangle:\t24\n",
            "Enter length of side of a triangle:\t30\n",
            "Enter length of side of a triangle:\t18\n",
            "Area of triangle is \t: 216.0\n"
          ],
          "name": "stdout"
        }
      ]
    },
    {
      "cell_type": "markdown",
      "metadata": {
        "id": "U_TuXa0DU0k9",
        "colab_type": "text"
      },
      "source": [
        "**2.Palindrome**"
      ]
    },
    {
      "cell_type": "code",
      "metadata": {
        "id": "6yaohsc1VDro",
        "colab_type": "code",
        "colab": {
          "base_uri": "https://localhost:8080/",
          "height": 50
        },
        "outputId": "c7e3dbfa-9678-4381-8213-f81a05b2d559"
      },
      "source": [
        "s=input('Enter a string:\\t')\n",
        "l=len(s)\n",
        "ds=s[l::-1]\n",
        "if s==ds:\n",
        "  print(s,'is a palindrome')\n",
        "else:\n",
        "  print(s,'is not a palindrome')\n",
        "\n",
        "\n",
        "  "
      ],
      "execution_count": null,
      "outputs": [
        {
          "output_type": "stream",
          "text": [
            "Enter a string:\tmadam\n",
            "madam is a palindrome\n"
          ],
          "name": "stdout"
        }
      ]
    },
    {
      "cell_type": "markdown",
      "metadata": {
        "id": "DaDfC4-YeEzN",
        "colab_type": "text"
      },
      "source": [
        "**3.Leap Year**"
      ]
    },
    {
      "cell_type": "code",
      "metadata": {
        "id": "-ASedK11eDHd",
        "colab_type": "code",
        "colab": {
          "base_uri": "https://localhost:8080/",
          "height": 50
        },
        "outputId": "6c78f31a-9b72-4480-85d1-22d292ec4c3e"
      },
      "source": [
        "year=int(input('Enter a year:\\t'))\n",
        "if year%4==0:\n",
        "  print(year,'is a Leap year')\n",
        "else:\n",
        "  print(year,'Not a Leap year')"
      ],
      "execution_count": null,
      "outputs": [
        {
          "output_type": "stream",
          "text": [
            "Enter a year:\t2021\n",
            "2021 Not a Leap year\n"
          ],
          "name": "stdout"
        }
      ]
    },
    {
      "cell_type": "markdown",
      "metadata": {
        "id": "omf_riaxfIC7",
        "colab_type": "text"
      },
      "source": [
        " **4.Space to Hyphen problem:**"
      ]
    },
    {
      "cell_type": "code",
      "metadata": {
        "id": "9QnjGSTEiR0_",
        "colab_type": "code",
        "colab": {
          "base_uri": "https://localhost:8080/",
          "height": 50
        },
        "outputId": "5768b910-cb9b-444b-c2d6-201ebc141ad3"
      },
      "source": [
        "str=input('Enter a string:\\t')\n",
        "s=str.replace(' ','-')\n",
        "print(s)"
      ],
      "execution_count": null,
      "outputs": [
        {
          "output_type": "stream",
          "text": [
            "Enter a string:\tenter a string\n",
            "enter-a-string\n"
          ],
          "name": "stdout"
        }
      ]
    },
    {
      "cell_type": "markdown",
      "metadata": {
        "id": "OfM_mOzqjpO9",
        "colab_type": "text"
      },
      "source": [
        "**5.Uniqe Sort problem**"
      ]
    },
    {
      "cell_type": "code",
      "metadata": {
        "id": "reyJOgWPjxPT",
        "colab_type": "code",
        "colab": {
          "base_uri": "https://localhost:8080/",
          "height": 50
        },
        "outputId": "ec18f132-9f2a-4479-f84c-444737fd79cb"
      },
      "source": [
        "string=input('enter strings with a comma:\\t')\n",
        "st=string.split(',')\n",
        "s=set(st)\n",
        "q=sorted(s)\n",
        "print(q)\n"
      ],
      "execution_count": null,
      "outputs": [
        {
          "output_type": "stream",
          "text": [
            "enter strings with a comma:\torange, white, red, cyan, green, magenta, cyan, pink, white\n",
            "[' cyan', ' green', ' magenta', ' pink', ' red', ' white', 'orange']\n"
          ],
          "name": "stdout"
        }
      ]
    },
    {
      "cell_type": "markdown",
      "metadata": {
        "id": "cu4VcOmex0Bp",
        "colab_type": "text"
      },
      "source": [
        "**6.TAX CALCULATOR**"
      ]
    },
    {
      "cell_type": "code",
      "metadata": {
        "id": "T8Thh81Wx0wp",
        "colab_type": "code",
        "colab": {
          "base_uri": "https://localhost:8080/",
          "height": 50
        },
        "outputId": "2cd9877b-4e14-4e28-a65b-c90ac15e340c"
      },
      "source": [
        "salary=float(input('Enter Monthly salary:\\t'))\n",
        "total=salary*12\n",
        "if total<=1500000:\n",
        "    tax=(25/100)*total\n",
        "    if total<=1250000:\n",
        "        tax=(20/100)*total\n",
        "        if total<=1000000:\n",
        "            tax=(15/100)*total\n",
        "            if total<=750000:\n",
        "                tax=(10/100)*total\n",
        "                if total<=500000:\n",
        "                    tax=(5/100)*total\n",
        "                    if total<=250000:\n",
        "                        tax=(5/100)*total\n",
        "else:\n",
        "    tax=(30/100)*total\n",
        "print(tax)\n",
        "    \n"
      ],
      "execution_count": null,
      "outputs": [
        {
          "output_type": "stream",
          "text": [
            "Enter Monthly salary:\t50000\n",
            "60000.0\n"
          ],
          "name": "stdout"
        }
      ]
    },
    {
      "cell_type": "markdown",
      "metadata": {
        "id": "RSd7vn3VyW4D",
        "colab_type": "text"
      },
      "source": [
        "**7. Take a list of integers as an argument, and converts it into a single integer (return the integer).**"
      ]
    },
    {
      "cell_type": "code",
      "metadata": {
        "id": "UrDulMV4yXkd",
        "colab_type": "code",
        "colab": {
          "base_uri": "https://localhost:8080/",
          "height": 34
        },
        "outputId": "4eacbd12-e3c1-42e1-b838-e11bf20cc0d2"
      },
      "source": [
        "L = [11, 33, 50]\n",
        "x = int(\"\".join(map(str, L)))\n",
        "print(\"Single Integer: \",x)"
      ],
      "execution_count": null,
      "outputs": [
        {
          "output_type": "stream",
          "text": [
            "Single Integer:  113350\n"
          ],
          "name": "stdout"
        }
      ]
    },
    {
      "cell_type": "markdown",
      "metadata": {
        "id": "h0vXt_PAyleY",
        "colab_type": "text"
      },
      "source": [
        "**8. Units of Time**"
      ]
    },
    {
      "cell_type": "code",
      "metadata": {
        "id": "k4CervB7ykkn",
        "colab_type": "code",
        "colab": {
          "base_uri": "https://localhost:8080/",
          "height": 101
        },
        "outputId": "a4ddc22d-e010-4a17-b520-e1ef9ffa29a0"
      },
      "source": [
        "days    = int(input(\"Enter number of Days: \"))\n",
        "hours   = int(input(\"Enter number of Hours: \"))\n",
        "minutes = int(input(\"Enter number of Minutes: \"))\n",
        "seconds = int(input(\"Enter number of Seconds: \"))\n",
        "ts = days * 86400\n",
        "ts = ts + ( hours * 3600)\n",
        "ts = ts + ( minutes * 60)\n",
        "ts = ts + seconds\n",
        "print(\"Total number of seconds: \",\"%d\"%(ts))"
      ],
      "execution_count": null,
      "outputs": [
        {
          "output_type": "stream",
          "text": [
            "Enter number of Days: 6\n",
            "Enter number of Hours: 28\n",
            "Enter number of Minutes: 50\n",
            "Enter number of Seconds: 16\n",
            "Total number of seconds:  622216\n"
          ],
          "name": "stdout"
        }
      ]
    },
    {
      "cell_type": "markdown",
      "metadata": {
        "id": "YioPFmxM7gre",
        "colab_type": "text"
      },
      "source": [
        "**9. Sort 3 Integers**"
      ]
    },
    {
      "cell_type": "code",
      "metadata": {
        "id": "1k3G_2w67hUh",
        "colab_type": "code",
        "colab": {
          "base_uri": "https://localhost:8080/",
          "height": 84
        },
        "outputId": "5a802e01-2f09-4682-857b-4458de38bb60"
      },
      "source": [
        "n1=int(input('Enter  number1:\\t'))\n",
        "n2=int(input('Enter  number2:\\t'))\n",
        "n3=int(input('Enter  number3:\\t'))\n",
        "n=[n1,n2,n3]\n",
        "ma=max(n)\n",
        "mi=min(n)\n",
        "mid=(n1+n2+n3)-(ma+mi)\n",
        "print(\"%d\"%(mi),end=' ')\n",
        "print(\"%d\"%(mid),end=' ')\n",
        "print(\"%d\"%(ma),end=' ')\n"
      ],
      "execution_count": null,
      "outputs": [
        {
          "output_type": "stream",
          "text": [
            "Enter  number1:\t12\n",
            "Enter  number2:\t9\n",
            "Enter  number3:\t85\n",
            "9 12 85 "
          ],
          "name": "stdout"
        }
      ]
    },
    {
      "cell_type": "markdown",
      "metadata": {
        "id": "N7LzRLfe7hxd",
        "colab_type": "text"
      },
      "source": [
        "**10. DATE FORMAT**"
      ]
    },
    {
      "cell_type": "code",
      "metadata": {
        "id": "jmZtOlJz7iYJ",
        "colab_type": "code",
        "colab": {
          "base_uri": "https://localhost:8080/",
          "height": 84
        },
        "outputId": "d680106b-8158-4a2f-8019-d95df376295d"
      },
      "source": [
        "year = int(input(\"Input a year: \"))\n",
        "if (year % 4 == 0):\n",
        "    leap_year = True\n",
        "else:\n",
        "    leap_year = False\n",
        "month = int(input(\"Input a month [1-12]: \"))\n",
        "if month in (1, 3, 5, 7, 8, 10, 12):\n",
        "    month_length = 31\n",
        "elif month == 2:\n",
        "    if leap_year:\n",
        "        month_length = 29\n",
        "    else:\n",
        "        month_length = 28\n",
        "else:\n",
        "    month_length = 30\n",
        "\n",
        "\n",
        "day = int(input(\"Input a day [1-31]: \"))\n",
        "\n",
        "if day < month_length:\n",
        "    day += 1\n",
        "else:\n",
        "    day = 1\n",
        "    if month == 12:\n",
        "        month = 1\n",
        "        year += 1\n",
        "    else:\n",
        "        month += 1\n",
        "print(\"The next date is [yyyy-mm-dd] %d-%d-%d.\" % (year, month, day))"
      ],
      "execution_count": null,
      "outputs": [
        {
          "output_type": "stream",
          "text": [
            "Input a year: 2020\n",
            "Input a month [1-12]: 12\n",
            "Input a day [1-31]: 31\n",
            "The next date is [yyyy-mm-dd] 2021-1-1.\n"
          ],
          "name": "stdout"
        }
      ]
    },
    {
      "cell_type": "markdown",
      "metadata": {
        "id": "qhK6mD1AaVWp",
        "colab_type": "text"
      },
      "source": [
        "**11. Product of list of numbers**"
      ]
    },
    {
      "cell_type": "code",
      "metadata": {
        "id": "uIih26j8aeS8",
        "colab_type": "code",
        "colab": {
          "base_uri": "https://localhost:8080/",
          "height": 34
        },
        "outputId": "6722f880-5649-49d4-de98-cc4175451a29"
      },
      "source": [
        "n=[45,3,2,89,72,1,10,7]\n",
        "m=1\n",
        "for i in n:\n",
        "  m=m*i\n",
        "print(m)"
      ],
      "execution_count": null,
      "outputs": [
        {
          "output_type": "stream",
          "text": [
            "121111200\n"
          ],
          "name": "stdout"
        }
      ]
    },
    {
      "cell_type": "markdown",
      "metadata": {
        "id": "ZMRO3rzQa4EL",
        "colab_type": "text"
      },
      "source": [
        "**12. Compute given Num_list =  [5, 6,8 ,34,89,1] to get desired output**\n",
        "\n",
        "**Output: Out_list=[11,14,42,123,90]**"
      ]
    },
    {
      "cell_type": "code",
      "metadata": {
        "id": "EekrP935bKJe",
        "colab_type": "code",
        "colab": {
          "base_uri": "https://localhost:8080/",
          "height": 34
        },
        "outputId": "6b9a0766-0056-4c68-9518-d5c69a4ebfdb"
      },
      "source": [
        "l=[5,6,8,34,89,1]\n",
        "n=[0]\n",
        "sum=0\n",
        "c=0\n",
        "le=len(l)\n",
        "for i in range(1,le):\n",
        "  if i<le:\n",
        "    sum=l[i-1]+l[i]\n",
        "    if n[0]==0:\n",
        "      n[0]=sum\n",
        "    else:\n",
        "      n.append(sum)\n",
        "print(n)\n"
      ],
      "execution_count": null,
      "outputs": [
        {
          "output_type": "stream",
          "text": [
            "[11, 14, 42, 123, 90]\n"
          ],
          "name": "stdout"
        }
      ]
    },
    {
      "cell_type": "markdown",
      "metadata": {
        "id": "XsqV91kDjMWN",
        "colab_type": "text"
      },
      "source": [
        "**13.      Compute given Num_tuple =  (5, 6,8 ,3,9,1) to get desired output**\n",
        "\n",
        "Output: Out_list = [5, 30, 240, 720, 6480, 6480]"
      ]
    },
    {
      "cell_type": "code",
      "metadata": {
        "id": "VEcH1K67jkR9",
        "colab_type": "code",
        "colab": {
          "base_uri": "https://localhost:8080/",
          "height": 34
        },
        "outputId": "55f0d5e4-0c39-4a10-b72c-6800c68624f2"
      },
      "source": [
        "tup=(5,6,8,3,9,1)\n",
        "mul=1\n",
        "flag=0\n",
        "l=[0]\n",
        "for i in tup:\n",
        "  mul=mul*i\n",
        "  n=mul\n",
        "  if l[0]==0:\n",
        "    l[0]=n\n",
        "  else:\n",
        "    l.append(mul)\n",
        "#k=tuple(l)\n",
        "print(l)\n"
      ],
      "execution_count": null,
      "outputs": [
        {
          "output_type": "stream",
          "text": [
            "[5, 30, 240, 720, 6480, 6480]\n"
          ],
          "name": "stdout"
        }
      ]
    },
    {
      "cell_type": "markdown",
      "metadata": {
        "id": "p4E0fn2AsSeS",
        "colab_type": "text"
      },
      "source": [
        "**14.** Write a Python code that takes a number and returns a list of its digits.So\n",
        " for 586392 it should return [5,8,6,3,9,2]"
      ]
    },
    {
      "cell_type": "code",
      "metadata": {
        "id": "z1ahd_4qhHFu",
        "colab_type": "code",
        "colab": {
          "base_uri": "https://localhost:8080/",
          "height": 50
        },
        "outputId": "872ba035-2de8-4b0a-dec4-14a5d4aaa2b4"
      },
      "source": [
        "n=int(input('Enter  a number:\\t'))\n",
        "k=str(n)\n",
        "l=list(k)\n",
        "j=[0]\n",
        "for i in l:\n",
        "  li=int(i)\n",
        "  if j[0]==0:\n",
        "    j[0]=li\n",
        "  else:\n",
        "    j.append(li)\n",
        "print(j)"
      ],
      "execution_count": null,
      "outputs": [
        {
          "output_type": "stream",
          "text": [
            "Enter  a number:\t586392\n",
            "[5, 8, 6, 3, 9, 2]\n"
          ],
          "name": "stdout"
        }
      ]
    },
    {
      "cell_type": "markdown",
      "metadata": {
        "id": "M1JmezQDut97",
        "colab_type": "text"
      },
      "source": [
        "**15. Write a program that finds the longest palindromic substring of a given string**"
      ]
    },
    {
      "cell_type": "code",
      "metadata": {
        "id": "hiydrc1Ku53w",
        "colab_type": "code",
        "colab": {
          "base_uri": "https://localhost:8080/",
          "height": 50
        },
        "outputId": "b8dfecfc-67ce-4be1-9a77-8704bb0d71e3"
      },
      "source": [
        "def longestpalindrome(n):\n",
        "    d=[[False for i in range(len(n))] for i in range(len(n))]\n",
        "    for i in range(len(n)):\n",
        "        d[i][i]=True\n",
        "    maxlen=1\n",
        "    start=0\n",
        "    for j in range(2,len(n)+1):\n",
        "        for i in range(len(n)-j+1):\n",
        "            end=i+j\n",
        "            if j==2:\n",
        "                if n[i]==n[end-1]:\n",
        "                    d[i][end-1]=True\n",
        "                    maxlen=j\n",
        "                    start=i\n",
        "            else:\n",
        "                if n[i]==n[end-1] and d[i+1][end-2]:\n",
        "                    d[i][end-1]=True\n",
        "                    maxlen=j\n",
        "                    start=i\n",
        "    return n[start:start+maxlen]\n",
        "n=input(\"Enter a string : \")\n",
        "print(longestpalindrome(n))"
      ],
      "execution_count": 7,
      "outputs": [
        {
          "output_type": "stream",
          "text": [
            "Enter a string : floorooried\n",
            "ooroo\n"
          ],
          "name": "stdout"
        }
      ]
    },
    {
      "cell_type": "markdown",
      "metadata": {
        "id": "K4HoDAoumPft",
        "colab_type": "text"
      },
      "source": [
        "**16. Substring Check (Bug Funny)**"
      ]
    },
    {
      "cell_type": "code",
      "metadata": {
        "id": "BjFQv0EBmWRM",
        "colab_type": "code",
        "colab": {
          "base_uri": "https://localhost:8080/",
          "height": 118
        },
        "outputId": "bace562e-d9da-4517-eaae-384b4c85c081"
      },
      "source": [
        "a=input(\"enter first binary string : \")\n",
        "b=input(\"enter first substring to check : \")\n",
        "a1=input(\"enter second binary string : \")\n",
        "b1=input(\"enter second substring to check : \")\n",
        "while ( b in a ):\n",
        "  print(\"1\")\n",
        "  break\n",
        "while ( b1 in a1 ):\n",
        "  print(\"1\")\n",
        "  break\n",
        "while (b not in a ):\n",
        "  print(\"0\")\n",
        "  break\n",
        "while ( b1 not in a1):\n",
        "  print(\"0\")\n",
        "  break"
      ],
      "execution_count": 1,
      "outputs": [
        {
          "output_type": "stream",
          "text": [
            "enter first binary string : 1010110010\n",
            "enter first substring to check : 10110\n",
            "enter second binary string : 1110111011\n",
            "enter second substring to check : 10011\n",
            "1\n",
            "0\n"
          ],
          "name": "stdout"
        }
      ]
    },
    {
      "cell_type": "markdown",
      "metadata": {
        "id": "Vl13vs506rQd",
        "colab_type": "text"
      },
      "source": [
        "**17. POUR1 - Pouring water**"
      ]
    },
    {
      "cell_type": "code",
      "metadata": {
        "id": "3QAoFI8763hA",
        "colab_type": "code",
        "colab": {
          "base_uri": "https://localhost:8080/",
          "height": 168
        },
        "outputId": "e1e0c56e-59d7-4e5d-8852-c21c07eeacf4"
      },
      "source": [
        "def gcd(a,b):\n",
        "    if b==0: \n",
        "        return a \n",
        "    return gcd(b,a%b) \n",
        "def countsteps(a,b,c): \n",
        "    v1=b\n",
        "    v2=0\n",
        "    count=1\n",
        "    while ((v1 is not c) and (v2 is not c)): \n",
        "        temp=min(v1,a-v2) \n",
        "        v2=v2+temp \n",
        "        v1=v1-temp \n",
        "        count=count+1\n",
        "        if ((v2==c)or(v1==c)): \n",
        "            break\n",
        "        if v1==0: \n",
        "            v1=b \n",
        "            count=count+1\n",
        "        if v2==a: \n",
        "            v2=0\n",
        "            count=count+1\n",
        "    return count \n",
        "def ispossible(a,b,c): \n",
        "    if a>b: \n",
        "        temp=a \n",
        "        a=b \n",
        "        b=temp \n",
        "    if c>b: \n",
        "        return -1\n",
        "    if (c%(gcd(b,a)) is not 0): \n",
        "        return -1\n",
        "    return(min(countsteps(b,a,c),countsteps(a,b,c)))\n",
        "t=int(input(\"Enter no of testcases : \"))\n",
        "for i in range(t):\n",
        "  a=int(input(\"Enter capacity of vessel a : \"))\n",
        "  b=int(input(\"Enter capacity of vessel b : \"))\n",
        "  c=int(input(\"Enter capacity to be obtained :\"))\n",
        "  print(\"Minimum number of steps required is : \",ispossible(a,b,c))"
      ],
      "execution_count": 10,
      "outputs": [
        {
          "output_type": "stream",
          "text": [
            "Enter no of testcases : 2\n",
            "Enter capacity of vessel a : 5\n",
            "Enter capacity of vessel b : 3\n",
            "Enter capacity to be obtained :2\n",
            "Minimum number of steps required is :  2\n",
            "Enter capacity of vessel a : 2\n",
            "Enter capacity of vessel b : 3\n",
            "Enter capacity to be obtained :4\n",
            "Minimum number of steps required is :  -1\n"
          ],
          "name": "stdout"
        }
      ]
    }
  ]
}